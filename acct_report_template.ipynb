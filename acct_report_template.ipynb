{
 "cells": [
  {
   "cell_type": "code",
   "execution_count": 1,
   "metadata": {},
   "outputs": [],
   "source": [
    "import pandas as pd\n",
    "import numpy as np\n",
    "import seaborn as sns\n",
    "import datetime as dt\n",
    "import pyodbc\n",
    "import matplotlib.pyplot as plt \n",
    "from pandas import ExcelWriter\n",
    "from IPython.display import display, HTML\n",
    "import matplotlib.pyplot as plt\n",
    "pd.set_option('display.max_columns', 35)"
   ]
  },
  {
   "cell_type": "code",
   "execution_count": 2,
   "metadata": {},
   "outputs": [],
   "source": [
    "# Open connection to Netezza databases for direct SQL queries\n",
    "dsn_name = \"DSN=Netezza;\"\n",
    "conn = pyodbc.connect(dsn_name)"
   ]
  },
  {
   "cell_type": "code",
   "execution_count": 3,
   "metadata": {},
   "outputs": [],
   "source": [
    "#SQL Query to identify all cases refunded from 2018-11-01 and 2018-11-30\n",
    "case_numbers_sql = \"\"\"\n",
    "SELECT\n",
    "    icare.CASENUMBER AS \"Case Number\",\n",
    "    SUBSTR(icare.LONG_MTCN__C, LENGTH(icare.LONG_MTCN__C) - 9, 10) AS MTCN, \n",
    "    icare.REFUND_MTCN__C AS \"Refund MTCN\",\n",
    "    icare.REFUND_AMOUNT__C AS \"Refund Amount\",\n",
    "    icare.REFUND_CURRENCY__C AS \"Refund Currency\",\n",
    "    icare.COUNTRY__C AS \"Send Country\",\n",
    "    icare.DESTINATION_COUNTRY__C AS \"Receive Country\",\n",
    "    icare.REMEDIATION__C AS \"Refund Type (Fee or FX)\",\n",
    "    transaction_info.RECPRODCT AS \"Product Code\",\n",
    "    icare.SUBJECT AS Issue\n",
    "\n",
    "FROM SERVICE_CLOUD_STG.DBAUSER.SFDC_CASE icare\n",
    "\n",
    "INNER JOIN (\n",
    "            SELECT fintx.RECPRODCT, trandetail.MTCN03 || trandetail.MTCN07 AS MTCN, fintx.RECISODTE\n",
    "            FROM TDB.ETL_TDB.DB100PDLIB_FNTXKP01 fintx\n",
    "            INNER JOIN TDB.ETL_TDB.DW400PDLIB_DWTXKP01 trandetail on fintx.TXNKEY = trandetail.TXNKEY\n",
    "            ) \n",
    "                AS transaction_info ON SUBSTR(icare.LONG_MTCN__C, LENGTH(icare.LONG_MTCN__C) -9, 10) = transaction_info.MTCN\n",
    "                    AND SUBSTR(icare.MT_SEND_DATE__C,1,10) = SUBSTR(transaction_info.RECISODTE,1,10)\n",
    "\n",
    "WHERE \n",
    "    icare.RECORD_TYPE_NAME__C = 'Remediation'\n",
    "    AND icare.DATE_TIME_FIRST_CLOSED__C BETWEEN '2019-01-01' AND '2019-01-31'\n",
    "\"\"\"\n",
    "\n",
    "#SQL query to obtain transaction information from TDB\n",
    "currency_conversion_sql = f\"\"\"\n",
    "SELECT pcurr.CURR, MIN(tran.RATEPAYEXC)/100 as MINRATE, MAX(tran.RATEPAYEXC)/100 AS MAXRATE, AVG(tran.RATEPAYEXC)/100 AS MEANRATE, median(tran.RATEPAYEXC)/100 AS MEDIAN\n",
    "\n",
    "FROM TDB.ETL_TDB.DB100PDLIB_FNTXKP01 fin\n",
    "\n",
    "INNER JOIN TDB.ETL_TDB.DB100PDLIB_DBCURP01 pcurr ON fin.PAYCURKEY = pcurr.CURKEY\n",
    "INNER JOIN TDB.ETL_TDB.DW400PDLIB_DWTXKP01 tran on fin.TXNKEY = tran.TXNKEY\n",
    "\n",
    "WHERE fin.PAYISODTE BETWEEN CURRENT_DATE - 10 AND CURRENT_DATE - 2\n",
    "GROUP BY pcurr.CURR\n",
    "\"\"\""
   ]
  },
  {
   "cell_type": "code",
   "execution_count": 4,
   "metadata": {},
   "outputs": [],
   "source": [
    "#Execute SQL statements\n",
    "case_numbers = pd.read_sql_query(case_numbers_sql,conn)\n",
    "currency_conversion = pd.read_sql_query(currency_conversion_sql,conn)"
   ]
  },
  {
   "cell_type": "code",
   "execution_count": 5,
   "metadata": {},
   "outputs": [],
   "source": [
    "case_numbers = case_numbers.drop_duplicates(subset = 'MTCN', keep = 'first')"
   ]
  },
  {
   "cell_type": "code",
   "execution_count": 6,
   "metadata": {},
   "outputs": [],
   "source": [
    "#Create additional column to review differences between median and mode currency rates\n",
    "currency_conversion['median_check_perc_diff'] = (currency_conversion['MEDIAN'] - currency_conversion['MEANRATE'])/ currency_conversion['MEDIAN']\n",
    "currency_conversion['median_mode_diff'] = (currency_conversion['MEDIAN'] - currency_conversion['MEANRATE']) "
   ]
  },
  {
   "cell_type": "code",
   "execution_count": 7,
   "metadata": {},
   "outputs": [],
   "source": [
    "#Create function to review currency conversion\n",
    "#Section is still a work in progress not sure how to append each identified issue to a new dataframe\n",
    "currency_conversion_columns = currency_conversion.columns\n",
    "investigate_currency_conversion = pd.DataFrame(columns = [currency_conversion_columns])\n",
    "\n",
    "def currency_review(row):\n",
    "    if row['median_mode_diff']/row['MEDIAN'] and row['median_mode_diff']/row['MINRATE'] and row['median_mode_diff']/row['MAXRATE']  > 0.01:\n",
    "        investigate_currency_conversion.append(row)\n",
    "    else:\n",
    "        pass"
   ]
  },
  {
   "cell_type": "code",
   "execution_count": 8,
   "metadata": {},
   "outputs": [],
   "source": [
    "#Create dataframe listing any currency conversion rates which should be further investigated\n",
    "#currency_conversion.apply(lambda row: currency_review(row), axis = 1)"
   ]
  },
  {
   "cell_type": "code",
   "execution_count": 9,
   "metadata": {},
   "outputs": [],
   "source": [
    "#Merge case_numbers dataframe and mtcn_details dataframe on column MTCN\n",
    "mtcn_details_currency_conversion_merged = pd.merge(case_numbers, currency_conversion, how = 'left', left_on = 'Refund Currency', right_on = 'CURR')"
   ]
  },
  {
   "cell_type": "code",
   "execution_count": 10,
   "metadata": {},
   "outputs": [
    {
     "name": "stdout",
     "output_type": "stream",
     "text": [
      "All MTCNs appear to be included\n"
     ]
    }
   ],
   "source": [
    "#Check length of new dataframe matches original dataframe list to confirm no MTCN's were lost\n",
    "if mtcn_details_currency_conversion_merged.shape[0] == case_numbers.shape[0]:\n",
    "    print('All MTCNs appear to be included')\n",
    "else:\n",
    "    print('Error: MTCNs appear to be missing')"
   ]
  },
  {
   "cell_type": "code",
   "execution_count": 11,
   "metadata": {},
   "outputs": [],
   "source": [
    "#Calculate refund amount in USD and drop columns which are not required\n",
    "mtcn_details_currency_conversion_merged['Amount USD'] = round(mtcn_details_currency_conversion_merged['Refund Amount'] / mtcn_details_currency_conversion_merged['MEDIAN'],2)\n",
    "mtcn_details_currency_conversion_merged = mtcn_details_currency_conversion_merged.drop(['CURR','MINRATE','MAXRATE','MEANRATE','MEDIAN','median_check_perc_diff', 'median_mode_diff'], axis = 1)\n",
    "mtcn_details_currency_conversion_merged = mtcn_details_currency_conversion_merged.sort_values(by = 'Amount USD', ascending = False)"
   ]
  },
  {
   "cell_type": "code",
   "execution_count": 15,
   "metadata": {},
   "outputs": [],
   "source": [
    "#Export Report in USD\n",
    "writer = ExcelWriter(r'C:\\Users\\309270\\Desktop\\portfolio_analytics\\accounting report\\january_2019_account_report.xlsx')\n",
    "mtcn_details_currency_conversion_merged.to_excel(writer,'data', index =False)\n",
    "writer.save()"
   ]
  },
  {
   "cell_type": "code",
   "execution_count": null,
   "metadata": {},
   "outputs": [],
   "source": []
  }
 ],
 "metadata": {
  "kernelspec": {
   "display_name": "Python 3",
   "language": "python",
   "name": "python3"
  },
  "language_info": {
   "codemirror_mode": {
    "name": "ipython",
    "version": 3
   },
   "file_extension": ".py",
   "mimetype": "text/x-python",
   "name": "python",
   "nbconvert_exporter": "python",
   "pygments_lexer": "ipython3",
   "version": "3.6.7"
  }
 },
 "nbformat": 4,
 "nbformat_minor": 2
}
